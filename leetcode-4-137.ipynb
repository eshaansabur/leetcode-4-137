{
 "cells": [
  {
   "cell_type": "code",
   "execution_count": 1,
   "id": "6b1a08ae-86f8-4de1-964f-0f22628a60a7",
   "metadata": {},
   "outputs": [
    {
     "data": {
      "text/plain": [
       "2.5"
      ]
     },
     "execution_count": 1,
     "metadata": {},
     "output_type": "execute_result"
    }
   ],
   "source": [
    "nums1 = [1,2]\n",
    "nums2 = [3,4]\n",
    "def findMedianSortedArrays(nums1, nums2):\n",
    "    nums = nums1+ nums2\n",
    "    nums.sort()\n",
    "    if len(nums)%2 !=0:\n",
    "        median = float(nums[int(len(nums)/2)])\n",
    "        return median\n",
    "    else:\n",
    "        median= float((nums[int(len(nums)/2)-1] + nums[int(len(nums)/2)])/2)\n",
    "        return median\n",
    "\n",
    "findMedianSortedArrays(nums1, nums2)"
   ]
  },
  {
   "cell_type": "code",
   "execution_count": 1,
   "id": "29331a2b-2e41-4188-b55d-5583a1acf1ac",
   "metadata": {},
   "outputs": [
    {
     "data": {
      "text/plain": [
       "3"
      ]
     },
     "execution_count": 1,
     "metadata": {},
     "output_type": "execute_result"
    }
   ],
   "source": [
    "nums = [2,2,3,2]\n",
    "def singleNumber(nums):\n",
    "    dict = {}\n",
    "    for num in nums:\n",
    "        if num not in dict.keys():\n",
    "            dict[num]=1\n",
    "        else:\n",
    "            dict[num]+=1\n",
    "    for k, v in dict.items():\n",
    "        if v == 1:\n",
    "            return k\n",
    "        \n",
    "singleNumber(nums)        "
   ]
  },
  {
   "cell_type": "code",
   "execution_count": null,
   "id": "21938e45-72d1-4a6f-b792-75fb039f55f6",
   "metadata": {},
   "outputs": [],
   "source": [
    "s = \"the sky is blue\"\n"
   ]
  }
 ],
 "metadata": {
  "kernelspec": {
   "display_name": "Python 3 (ipykernel)",
   "language": "python",
   "name": "python3"
  },
  "language_info": {
   "codemirror_mode": {
    "name": "ipython",
    "version": 3
   },
   "file_extension": ".py",
   "mimetype": "text/x-python",
   "name": "python",
   "nbconvert_exporter": "python",
   "pygments_lexer": "ipython3",
   "version": "3.11.7"
  }
 },
 "nbformat": 4,
 "nbformat_minor": 5
}
